{
  "nbformat": 4,
  "nbformat_minor": 0,
  "metadata": {
    "colab": {
      "name": "Anomaly_Detection_using_Isolation_forest.ipynb",
      "provenance": []
    },
    "kernelspec": {
      "name": "python3",
      "display_name": "Python 3"
    },
    "language_info": {
      "name": "python"
    }
  },
  "cells": [
    {
      "cell_type": "code",
      "metadata": {
        "id": "Ltr7OvaRPEVL"
      },
      "source": [
        "import numpy as np\n",
        "import pandas as pd\n",
        "import seaborn as sns\n",
        "import matplotlib.pyplot as plt\n",
        "from sklearn.ensemble import IsolationForest\n",
        "from sklearn.model_selection import train_test_split\n",
        "from sklearn.metrics import accuracy_score"
      ],
      "execution_count": 3,
      "outputs": []
    },
    {
      "cell_type": "code",
      "metadata": {
        "colab": {
          "base_uri": "https://localhost:8080/"
        },
        "id": "ISaqhcL5d-xH",
        "outputId": "bf710345-e196-4c60-f449-c92cae0e07d4"
      },
      "source": [
        "data = pd.read_csv(\"/content/creditcard.csv\")\n",
        "print(data.head())"
      ],
      "execution_count": 13,
      "outputs": [
        {
          "output_type": "stream",
          "text": [
            "   Time        V1        V2        V3  ...       V27       V28  Amount  Class\n",
            "0   0.0 -1.359807 -0.072781  2.536347  ...  0.133558 -0.021053  149.62    0.0\n",
            "1   0.0  1.191857  0.266151  0.166480  ... -0.008983  0.014724    2.69    0.0\n",
            "2   1.0 -1.358354 -1.340163  1.773209  ... -0.055353 -0.059752  378.66    0.0\n",
            "3   1.0 -0.966272 -0.185226  1.792993  ...  0.062723  0.061458  123.50    0.0\n",
            "4   2.0 -1.158233  0.877737  1.548718  ...  0.219422  0.215153   69.99    0.0\n",
            "\n",
            "[5 rows x 31 columns]\n"
          ],
          "name": "stdout"
        }
      ]
    },
    {
      "cell_type": "code",
      "metadata": {
        "colab": {
          "base_uri": "https://localhost:8080/"
        },
        "id": "Hta6ItbPesif",
        "outputId": "454bb6cc-c825-4c44-b9a9-6854d2550a75"
      },
      "source": [
        "data.shape"
      ],
      "execution_count": 14,
      "outputs": [
        {
          "output_type": "execute_result",
          "data": {
            "text/plain": [
              "(179610, 31)"
            ]
          },
          "metadata": {
            "tags": []
          },
          "execution_count": 14
        }
      ]
    },
    {
      "cell_type": "code",
      "metadata": {
        "id": "nUNqkvTTexEA"
      },
      "source": [
        "data = data.dropna()"
      ],
      "execution_count": 15,
      "outputs": []
    },
    {
      "cell_type": "code",
      "metadata": {
        "colab": {
          "base_uri": "https://localhost:8080/"
        },
        "id": "PghyNbfde9OI",
        "outputId": "a38c4554-ae58-49de-99ef-625bb4f6c6a2"
      },
      "source": [
        "data.shape"
      ],
      "execution_count": 16,
      "outputs": [
        {
          "output_type": "execute_result",
          "data": {
            "text/plain": [
              "(179609, 31)"
            ]
          },
          "metadata": {
            "tags": []
          },
          "execution_count": 16
        }
      ]
    },
    {
      "cell_type": "code",
      "metadata": {
        "id": "XeDUjNfpeLTU"
      },
      "source": [
        "X = data.drop('Class',axis=1)\n",
        "Y = data['Class']"
      ],
      "execution_count": 17,
      "outputs": []
    },
    {
      "cell_type": "code",
      "metadata": {
        "id": "4wZc1Lz6kRmq"
      },
      "source": [
        "\n",
        "X_train,X_test,Y_train,Y_test = train_test_split(X,Y,test_size=0.05,random_state=42,stratify=Y)"
      ],
      "execution_count": 32,
      "outputs": []
    },
    {
      "cell_type": "code",
      "metadata": {
        "id": "aZsnIflbkVwR"
      },
      "source": [
        "X_test.to_csv(\"Test_credicard_data.csv\",index=False)"
      ],
      "execution_count": 35,
      "outputs": []
    },
    {
      "cell_type": "code",
      "metadata": {
        "colab": {
          "base_uri": "https://localhost:8080/"
        },
        "id": "im7f5OwBkk3A",
        "outputId": "a0a5c666-07da-4bbe-ffb3-0386d9cadf4c"
      },
      "source": [
        "X_test.shape"
      ],
      "execution_count": 33,
      "outputs": [
        {
          "output_type": "execute_result",
          "data": {
            "text/plain": [
              "(8981, 30)"
            ]
          },
          "metadata": {
            "tags": []
          },
          "execution_count": 33
        }
      ]
    },
    {
      "cell_type": "code",
      "metadata": {
        "colab": {
          "base_uri": "https://localhost:8080/"
        },
        "id": "NjEIzONbenzM",
        "outputId": "d5ab8ab8-5440-49c3-eb2d-c03a35ef2ff2"
      },
      "source": [
        "X.isnull().sum()"
      ],
      "execution_count": 18,
      "outputs": [
        {
          "output_type": "execute_result",
          "data": {
            "text/plain": [
              "Time      0\n",
              "V1        0\n",
              "V2        0\n",
              "V3        0\n",
              "V4        0\n",
              "V5        0\n",
              "V6        0\n",
              "V7        0\n",
              "V8        0\n",
              "V9        0\n",
              "V10       0\n",
              "V11       0\n",
              "V12       0\n",
              "V13       0\n",
              "V14       0\n",
              "V15       0\n",
              "V16       0\n",
              "V17       0\n",
              "V18       0\n",
              "V19       0\n",
              "V20       0\n",
              "V21       0\n",
              "V22       0\n",
              "V23       0\n",
              "V24       0\n",
              "V25       0\n",
              "V26       0\n",
              "V27       0\n",
              "V28       0\n",
              "Amount    0\n",
              "dtype: int64"
            ]
          },
          "metadata": {
            "tags": []
          },
          "execution_count": 18
        }
      ]
    },
    {
      "cell_type": "code",
      "metadata": {
        "colab": {
          "base_uri": "https://localhost:8080/"
        },
        "id": "2QYJdDdteJbk",
        "outputId": "d1faca28-8858-4fc5-e2e4-b59264414fb7"
      },
      "source": [
        "model = IsolationForest(n_estimators=100, max_samples='auto', \n",
        "                                       contamination=0.2,\n",
        "                                       random_state=42, \n",
        "                                       verbose=0)\n",
        "model.fit(X)\n",
        "print(model.get_params())\n",
        "data['scores'] = model.decision_function(X)\n",
        "data['anomaly_score'] = model.predict(X)\n",
        "print('Anomalous Data')\n",
        "print(data[data['anomaly_score'] == -1].head())\n",
        "\n"
      ],
      "execution_count": 20,
      "outputs": [
        {
          "output_type": "stream",
          "text": [
            "{'behaviour': 'deprecated', 'bootstrap': False, 'contamination': 0.2, 'max_features': 1.0, 'max_samples': 'auto', 'n_estimators': 100, 'n_jobs': None, 'random_state': 42, 'verbose': 0, 'warm_start': False}\n",
            "Anomalous Data\n",
            "    Time        V1        V2        V3  ...  Amount  Class    scores  anomaly_score\n",
            "2    1.0 -1.358354 -1.340163  1.773209  ...  378.66    0.0 -0.042113             -1\n",
            "7    7.0 -0.644269  1.417964  1.074380  ...   40.80    0.0 -0.067170             -1\n",
            "14  12.0 -2.791855 -0.327771  1.641750  ...   58.80    0.0 -0.037651             -1\n",
            "18  14.0 -5.401258 -5.450148  1.186305  ...   46.80    0.0 -0.094088             -1\n",
            "21  17.0  0.962496  0.328461 -0.171479  ...   34.09    0.0 -0.030452             -1\n",
            "\n",
            "[5 rows x 33 columns]\n"
          ],
          "name": "stdout"
        }
      ]
    },
    {
      "cell_type": "code",
      "metadata": {
        "colab": {
          "base_uri": "https://localhost:8080/"
        },
        "id": "miYGuusqiyAS",
        "outputId": "a9a55be2-9e40-467b-d39f-027557df3104"
      },
      "source": [
        "data[(data['Class'] ==1)&(data['anomaly_score'] == -1)].shape"
      ],
      "execution_count": 25,
      "outputs": [
        {
          "output_type": "execute_result",
          "data": {
            "text/plain": [
              "(328, 33)"
            ]
          },
          "metadata": {
            "tags": []
          },
          "execution_count": 25
        }
      ]
    },
    {
      "cell_type": "code",
      "metadata": {
        "colab": {
          "base_uri": "https://localhost:8080/",
          "height": 434
        },
        "id": "TRSC8MwejBPt",
        "outputId": "9d517aab-5a57-4360-f9b9-4dc91aff675a"
      },
      "source": [
        "data[data['anomaly_score'] ==1]."
      ],
      "execution_count": 24,
      "outputs": [
        {
          "output_type": "execute_result",
          "data": {
            "text/html": [
              "<div>\n",
              "<style scoped>\n",
              "    .dataframe tbody tr th:only-of-type {\n",
              "        vertical-align: middle;\n",
              "    }\n",
              "\n",
              "    .dataframe tbody tr th {\n",
              "        vertical-align: top;\n",
              "    }\n",
              "\n",
              "    .dataframe thead th {\n",
              "        text-align: right;\n",
              "    }\n",
              "</style>\n",
              "<table border=\"1\" class=\"dataframe\">\n",
              "  <thead>\n",
              "    <tr style=\"text-align: right;\">\n",
              "      <th></th>\n",
              "      <th>Time</th>\n",
              "      <th>V1</th>\n",
              "      <th>V2</th>\n",
              "      <th>V3</th>\n",
              "      <th>V4</th>\n",
              "      <th>V5</th>\n",
              "      <th>V6</th>\n",
              "      <th>V7</th>\n",
              "      <th>V8</th>\n",
              "      <th>V9</th>\n",
              "      <th>V10</th>\n",
              "      <th>V11</th>\n",
              "      <th>V12</th>\n",
              "      <th>V13</th>\n",
              "      <th>V14</th>\n",
              "      <th>V15</th>\n",
              "      <th>V16</th>\n",
              "      <th>V17</th>\n",
              "      <th>V18</th>\n",
              "      <th>V19</th>\n",
              "      <th>V20</th>\n",
              "      <th>V21</th>\n",
              "      <th>V22</th>\n",
              "      <th>V23</th>\n",
              "      <th>V24</th>\n",
              "      <th>V25</th>\n",
              "      <th>V26</th>\n",
              "      <th>V27</th>\n",
              "      <th>V28</th>\n",
              "      <th>Amount</th>\n",
              "      <th>Class</th>\n",
              "      <th>scores</th>\n",
              "      <th>anomaly_score</th>\n",
              "    </tr>\n",
              "  </thead>\n",
              "  <tbody>\n",
              "    <tr>\n",
              "      <th>0</th>\n",
              "      <td>0.0</td>\n",
              "      <td>-1.359807</td>\n",
              "      <td>-0.072781</td>\n",
              "      <td>2.536347</td>\n",
              "      <td>1.378155</td>\n",
              "      <td>-0.338321</td>\n",
              "      <td>0.462388</td>\n",
              "      <td>0.239599</td>\n",
              "      <td>0.098698</td>\n",
              "      <td>0.363787</td>\n",
              "      <td>0.090794</td>\n",
              "      <td>-0.551600</td>\n",
              "      <td>-0.617801</td>\n",
              "      <td>-0.991390</td>\n",
              "      <td>-0.311169</td>\n",
              "      <td>1.468177</td>\n",
              "      <td>-0.470401</td>\n",
              "      <td>0.207971</td>\n",
              "      <td>0.025791</td>\n",
              "      <td>0.403993</td>\n",
              "      <td>0.251412</td>\n",
              "      <td>-0.018307</td>\n",
              "      <td>0.277838</td>\n",
              "      <td>-0.110474</td>\n",
              "      <td>0.066928</td>\n",
              "      <td>0.128539</td>\n",
              "      <td>-0.189115</td>\n",
              "      <td>0.133558</td>\n",
              "      <td>-0.021053</td>\n",
              "      <td>149.62</td>\n",
              "      <td>0.0</td>\n",
              "      <td>0.050654</td>\n",
              "      <td>1</td>\n",
              "    </tr>\n",
              "    <tr>\n",
              "      <th>1</th>\n",
              "      <td>0.0</td>\n",
              "      <td>1.191857</td>\n",
              "      <td>0.266151</td>\n",
              "      <td>0.166480</td>\n",
              "      <td>0.448154</td>\n",
              "      <td>0.060018</td>\n",
              "      <td>-0.082361</td>\n",
              "      <td>-0.078803</td>\n",
              "      <td>0.085102</td>\n",
              "      <td>-0.255425</td>\n",
              "      <td>-0.166974</td>\n",
              "      <td>1.612727</td>\n",
              "      <td>1.065235</td>\n",
              "      <td>0.489095</td>\n",
              "      <td>-0.143772</td>\n",
              "      <td>0.635558</td>\n",
              "      <td>0.463917</td>\n",
              "      <td>-0.114805</td>\n",
              "      <td>-0.183361</td>\n",
              "      <td>-0.145783</td>\n",
              "      <td>-0.069083</td>\n",
              "      <td>-0.225775</td>\n",
              "      <td>-0.638672</td>\n",
              "      <td>0.101288</td>\n",
              "      <td>-0.339846</td>\n",
              "      <td>0.167170</td>\n",
              "      <td>0.125895</td>\n",
              "      <td>-0.008983</td>\n",
              "      <td>0.014724</td>\n",
              "      <td>2.69</td>\n",
              "      <td>0.0</td>\n",
              "      <td>0.051284</td>\n",
              "      <td>1</td>\n",
              "    </tr>\n",
              "    <tr>\n",
              "      <th>3</th>\n",
              "      <td>1.0</td>\n",
              "      <td>-0.966272</td>\n",
              "      <td>-0.185226</td>\n",
              "      <td>1.792993</td>\n",
              "      <td>-0.863291</td>\n",
              "      <td>-0.010309</td>\n",
              "      <td>1.247203</td>\n",
              "      <td>0.237609</td>\n",
              "      <td>0.377436</td>\n",
              "      <td>-1.387024</td>\n",
              "      <td>-0.054952</td>\n",
              "      <td>-0.226487</td>\n",
              "      <td>0.178228</td>\n",
              "      <td>0.507757</td>\n",
              "      <td>-0.287924</td>\n",
              "      <td>-0.631418</td>\n",
              "      <td>-1.059647</td>\n",
              "      <td>-0.684093</td>\n",
              "      <td>1.965775</td>\n",
              "      <td>-1.232622</td>\n",
              "      <td>-0.208038</td>\n",
              "      <td>-0.108300</td>\n",
              "      <td>0.005274</td>\n",
              "      <td>-0.190321</td>\n",
              "      <td>-1.175575</td>\n",
              "      <td>0.647376</td>\n",
              "      <td>-0.221929</td>\n",
              "      <td>0.062723</td>\n",
              "      <td>0.061458</td>\n",
              "      <td>123.50</td>\n",
              "      <td>0.0</td>\n",
              "      <td>0.005446</td>\n",
              "      <td>1</td>\n",
              "    </tr>\n",
              "    <tr>\n",
              "      <th>4</th>\n",
              "      <td>2.0</td>\n",
              "      <td>-1.158233</td>\n",
              "      <td>0.877737</td>\n",
              "      <td>1.548718</td>\n",
              "      <td>0.403034</td>\n",
              "      <td>-0.407193</td>\n",
              "      <td>0.095921</td>\n",
              "      <td>0.592941</td>\n",
              "      <td>-0.270533</td>\n",
              "      <td>0.817739</td>\n",
              "      <td>0.753074</td>\n",
              "      <td>-0.822843</td>\n",
              "      <td>0.538196</td>\n",
              "      <td>1.345852</td>\n",
              "      <td>-1.119670</td>\n",
              "      <td>0.175121</td>\n",
              "      <td>-0.451449</td>\n",
              "      <td>-0.237033</td>\n",
              "      <td>-0.038195</td>\n",
              "      <td>0.803487</td>\n",
              "      <td>0.408542</td>\n",
              "      <td>-0.009431</td>\n",
              "      <td>0.798278</td>\n",
              "      <td>-0.137458</td>\n",
              "      <td>0.141267</td>\n",
              "      <td>-0.206010</td>\n",
              "      <td>0.502292</td>\n",
              "      <td>0.219422</td>\n",
              "      <td>0.215153</td>\n",
              "      <td>69.99</td>\n",
              "      <td>0.0</td>\n",
              "      <td>0.027751</td>\n",
              "      <td>1</td>\n",
              "    </tr>\n",
              "    <tr>\n",
              "      <th>5</th>\n",
              "      <td>2.0</td>\n",
              "      <td>-0.425966</td>\n",
              "      <td>0.960523</td>\n",
              "      <td>1.141109</td>\n",
              "      <td>-0.168252</td>\n",
              "      <td>0.420987</td>\n",
              "      <td>-0.029728</td>\n",
              "      <td>0.476201</td>\n",
              "      <td>0.260314</td>\n",
              "      <td>-0.568671</td>\n",
              "      <td>-0.371407</td>\n",
              "      <td>1.341262</td>\n",
              "      <td>0.359894</td>\n",
              "      <td>-0.358091</td>\n",
              "      <td>-0.137134</td>\n",
              "      <td>0.517617</td>\n",
              "      <td>0.401726</td>\n",
              "      <td>-0.058133</td>\n",
              "      <td>0.068653</td>\n",
              "      <td>-0.033194</td>\n",
              "      <td>0.084968</td>\n",
              "      <td>-0.208254</td>\n",
              "      <td>-0.559825</td>\n",
              "      <td>-0.026398</td>\n",
              "      <td>-0.371427</td>\n",
              "      <td>-0.232794</td>\n",
              "      <td>0.105915</td>\n",
              "      <td>0.253844</td>\n",
              "      <td>0.081080</td>\n",
              "      <td>3.67</td>\n",
              "      <td>0.0</td>\n",
              "      <td>0.055252</td>\n",
              "      <td>1</td>\n",
              "    </tr>\n",
              "    <tr>\n",
              "      <th>...</th>\n",
              "      <td>...</td>\n",
              "      <td>...</td>\n",
              "      <td>...</td>\n",
              "      <td>...</td>\n",
              "      <td>...</td>\n",
              "      <td>...</td>\n",
              "      <td>...</td>\n",
              "      <td>...</td>\n",
              "      <td>...</td>\n",
              "      <td>...</td>\n",
              "      <td>...</td>\n",
              "      <td>...</td>\n",
              "      <td>...</td>\n",
              "      <td>...</td>\n",
              "      <td>...</td>\n",
              "      <td>...</td>\n",
              "      <td>...</td>\n",
              "      <td>...</td>\n",
              "      <td>...</td>\n",
              "      <td>...</td>\n",
              "      <td>...</td>\n",
              "      <td>...</td>\n",
              "      <td>...</td>\n",
              "      <td>...</td>\n",
              "      <td>...</td>\n",
              "      <td>...</td>\n",
              "      <td>...</td>\n",
              "      <td>...</td>\n",
              "      <td>...</td>\n",
              "      <td>...</td>\n",
              "      <td>...</td>\n",
              "      <td>...</td>\n",
              "      <td>...</td>\n",
              "    </tr>\n",
              "    <tr>\n",
              "      <th>179601</th>\n",
              "      <td>124153.0</td>\n",
              "      <td>1.786904</td>\n",
              "      <td>-1.454071</td>\n",
              "      <td>-1.653961</td>\n",
              "      <td>-0.646983</td>\n",
              "      <td>-0.768945</td>\n",
              "      <td>-1.173636</td>\n",
              "      <td>0.014534</td>\n",
              "      <td>-0.384678</td>\n",
              "      <td>-0.333213</td>\n",
              "      <td>0.712413</td>\n",
              "      <td>-0.969361</td>\n",
              "      <td>-1.019346</td>\n",
              "      <td>-0.932178</td>\n",
              "      <td>0.232975</td>\n",
              "      <td>-0.114252</td>\n",
              "      <td>0.688785</td>\n",
              "      <td>0.461115</td>\n",
              "      <td>-1.735581</td>\n",
              "      <td>0.748139</td>\n",
              "      <td>0.333578</td>\n",
              "      <td>0.146130</td>\n",
              "      <td>-0.090930</td>\n",
              "      <td>-0.005531</td>\n",
              "      <td>-0.177174</td>\n",
              "      <td>-0.125407</td>\n",
              "      <td>-0.286648</td>\n",
              "      <td>-0.086505</td>\n",
              "      <td>-0.028427</td>\n",
              "      <td>237.20</td>\n",
              "      <td>0.0</td>\n",
              "      <td>0.012419</td>\n",
              "      <td>1</td>\n",
              "    </tr>\n",
              "    <tr>\n",
              "      <th>179602</th>\n",
              "      <td>124153.0</td>\n",
              "      <td>2.004683</td>\n",
              "      <td>-0.305812</td>\n",
              "      <td>-0.217588</td>\n",
              "      <td>0.326748</td>\n",
              "      <td>-0.708944</td>\n",
              "      <td>-0.670969</td>\n",
              "      <td>-0.502044</td>\n",
              "      <td>-0.092565</td>\n",
              "      <td>1.013671</td>\n",
              "      <td>-0.024845</td>\n",
              "      <td>-0.653864</td>\n",
              "      <td>0.695545</td>\n",
              "      <td>0.635286</td>\n",
              "      <td>-0.204531</td>\n",
              "      <td>0.523062</td>\n",
              "      <td>0.357872</td>\n",
              "      <td>-0.484407</td>\n",
              "      <td>-0.579498</td>\n",
              "      <td>-0.147507</td>\n",
              "      <td>-0.178328</td>\n",
              "      <td>-0.208897</td>\n",
              "      <td>-0.436137</td>\n",
              "      <td>0.429325</td>\n",
              "      <td>-0.004678</td>\n",
              "      <td>-0.633240</td>\n",
              "      <td>0.275635</td>\n",
              "      <td>-0.026685</td>\n",
              "      <td>-0.043308</td>\n",
              "      <td>1.00</td>\n",
              "      <td>0.0</td>\n",
              "      <td>0.053491</td>\n",
              "      <td>1</td>\n",
              "    </tr>\n",
              "    <tr>\n",
              "      <th>179603</th>\n",
              "      <td>124153.0</td>\n",
              "      <td>-0.155943</td>\n",
              "      <td>1.190031</td>\n",
              "      <td>-0.763020</td>\n",
              "      <td>-0.384402</td>\n",
              "      <td>0.839967</td>\n",
              "      <td>-1.109212</td>\n",
              "      <td>1.479676</td>\n",
              "      <td>-0.527897</td>\n",
              "      <td>-0.377126</td>\n",
              "      <td>0.090111</td>\n",
              "      <td>0.827006</td>\n",
              "      <td>0.880919</td>\n",
              "      <td>-0.065782</td>\n",
              "      <td>0.587057</td>\n",
              "      <td>-1.137250</td>\n",
              "      <td>-0.954758</td>\n",
              "      <td>-0.318527</td>\n",
              "      <td>0.025834</td>\n",
              "      <td>0.688493</td>\n",
              "      <td>-0.231398</td>\n",
              "      <td>0.373552</td>\n",
              "      <td>1.062604</td>\n",
              "      <td>-0.265388</td>\n",
              "      <td>0.135976</td>\n",
              "      <td>-0.168087</td>\n",
              "      <td>-0.201897</td>\n",
              "      <td>-0.442313</td>\n",
              "      <td>0.062345</td>\n",
              "      <td>18.13</td>\n",
              "      <td>0.0</td>\n",
              "      <td>0.020786</td>\n",
              "      <td>1</td>\n",
              "    </tr>\n",
              "    <tr>\n",
              "      <th>179604</th>\n",
              "      <td>124153.0</td>\n",
              "      <td>1.917694</td>\n",
              "      <td>-0.421875</td>\n",
              "      <td>-1.660221</td>\n",
              "      <td>0.724502</td>\n",
              "      <td>0.018688</td>\n",
              "      <td>0.103442</td>\n",
              "      <td>-0.618901</td>\n",
              "      <td>0.131122</td>\n",
              "      <td>-0.552475</td>\n",
              "      <td>0.253624</td>\n",
              "      <td>0.753776</td>\n",
              "      <td>-0.014623</td>\n",
              "      <td>-0.127352</td>\n",
              "      <td>-2.014848</td>\n",
              "      <td>-0.187300</td>\n",
              "      <td>-0.351763</td>\n",
              "      <td>1.008177</td>\n",
              "      <td>2.888547</td>\n",
              "      <td>-1.219172</td>\n",
              "      <td>-0.437165</td>\n",
              "      <td>-0.374483</td>\n",
              "      <td>-0.652282</td>\n",
              "      <td>0.152407</td>\n",
              "      <td>-0.000298</td>\n",
              "      <td>-0.174736</td>\n",
              "      <td>-0.699847</td>\n",
              "      <td>0.073080</td>\n",
              "      <td>0.021294</td>\n",
              "      <td>76.40</td>\n",
              "      <td>0.0</td>\n",
              "      <td>0.008371</td>\n",
              "      <td>1</td>\n",
              "    </tr>\n",
              "    <tr>\n",
              "      <th>179608</th>\n",
              "      <td>124156.0</td>\n",
              "      <td>2.058784</td>\n",
              "      <td>-0.048015</td>\n",
              "      <td>-1.321595</td>\n",
              "      <td>0.380460</td>\n",
              "      <td>-0.082677</td>\n",
              "      <td>-1.381481</td>\n",
              "      <td>0.243639</td>\n",
              "      <td>-0.388339</td>\n",
              "      <td>0.651088</td>\n",
              "      <td>0.022770</td>\n",
              "      <td>-0.749584</td>\n",
              "      <td>0.105095</td>\n",
              "      <td>-0.303134</td>\n",
              "      <td>0.563223</td>\n",
              "      <td>0.781211</td>\n",
              "      <td>-0.201011</td>\n",
              "      <td>-0.478387</td>\n",
              "      <td>-0.021211</td>\n",
              "      <td>-0.234980</td>\n",
              "      <td>-0.254628</td>\n",
              "      <td>0.245919</td>\n",
              "      <td>0.843413</td>\n",
              "      <td>-0.001113</td>\n",
              "      <td>0.073956</td>\n",
              "      <td>0.251870</td>\n",
              "      <td>-0.110749</td>\n",
              "      <td>-0.023389</td>\n",
              "      <td>-0.058049</td>\n",
              "      <td>8.99</td>\n",
              "      <td>0.0</td>\n",
              "      <td>0.044940</td>\n",
              "      <td>1</td>\n",
              "    </tr>\n",
              "  </tbody>\n",
              "</table>\n",
              "<p>143687 rows × 33 columns</p>\n",
              "</div>"
            ],
            "text/plain": [
              "            Time        V1        V2  ...  Class    scores  anomaly_score\n",
              "0            0.0 -1.359807 -0.072781  ...    0.0  0.050654              1\n",
              "1            0.0  1.191857  0.266151  ...    0.0  0.051284              1\n",
              "3            1.0 -0.966272 -0.185226  ...    0.0  0.005446              1\n",
              "4            2.0 -1.158233  0.877737  ...    0.0  0.027751              1\n",
              "5            2.0 -0.425966  0.960523  ...    0.0  0.055252              1\n",
              "...          ...       ...       ...  ...    ...       ...            ...\n",
              "179601  124153.0  1.786904 -1.454071  ...    0.0  0.012419              1\n",
              "179602  124153.0  2.004683 -0.305812  ...    0.0  0.053491              1\n",
              "179603  124153.0 -0.155943  1.190031  ...    0.0  0.020786              1\n",
              "179604  124153.0  1.917694 -0.421875  ...    0.0  0.008371              1\n",
              "179608  124156.0  2.058784 -0.048015  ...    0.0  0.044940              1\n",
              "\n",
              "[143687 rows x 33 columns]"
            ]
          },
          "metadata": {
            "tags": []
          },
          "execution_count": 24
        }
      ]
    },
    {
      "cell_type": "markdown",
      "metadata": {
        "id": "r6MRAYpDjn9Q"
      },
      "source": [
        "## Model Evaluation"
      ]
    },
    {
      "cell_type": "code",
      "metadata": {
        "colab": {
          "base_uri": "https://localhost:8080/"
        },
        "id": "N_XrAo9_ipNy",
        "outputId": "62995c97-18a8-4374-b9e1-f8a196ca5ef4"
      },
      "source": [
        "pred_anom = data[(data['Class'] == 1) & (data['anomaly_score'] ==-1)].shape[0]\n",
        "total_anom = data[data['Class'] == 1].shape[0]\n",
        "#model evaluation\n",
        "accuracy = 100 * pred_anom /total_anom\n",
        "print(f'accuracy of the model : {accuracy} %')"
      ],
      "execution_count": 27,
      "outputs": [
        {
          "output_type": "stream",
          "text": [
            "accuracy of the model : 90.10989010989012 %\n"
          ],
          "name": "stdout"
        }
      ]
    },
    {
      "cell_type": "markdown",
      "metadata": {
        "id": "B7ZEQB7LjrrG"
      },
      "source": [
        "## Save the model"
      ]
    },
    {
      "cell_type": "code",
      "metadata": {
        "id": "xu9tyizsjugi"
      },
      "source": [
        "import pickle\n",
        "pickle_out = open(\"isolationforest.pkl\",\"wb\")\n",
        "pickle.dump(model,pickle_out)\n",
        "pickle_out.close()"
      ],
      "execution_count": 28,
      "outputs": []
    },
    {
      "cell_type": "code",
      "metadata": {
        "id": "39xlm-YzkA5V"
      },
      "source": [
        ""
      ],
      "execution_count": null,
      "outputs": []
    }
  ]
}